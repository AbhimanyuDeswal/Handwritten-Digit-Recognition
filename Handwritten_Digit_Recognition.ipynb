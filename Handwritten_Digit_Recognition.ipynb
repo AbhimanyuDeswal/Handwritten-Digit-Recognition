{
  "nbformat": 4,
  "nbformat_minor": 0,
  "metadata": {
    "colab": {
      "name": "Handwritten_Digit_Recognition.ipynb",
      "provenance": [],
      "authorship_tag": "ABX9TyP4t2nIQczMEfSC89OePdHO",
      "include_colab_link": true
    },
    "kernelspec": {
      "name": "python3",
      "display_name": "Python 3"
    },
    "language_info": {
      "name": "python"
    }
  },
  "cells": [
    {
      "cell_type": "markdown",
      "metadata": {
        "id": "view-in-github",
        "colab_type": "text"
      },
      "source": [
        "<a href=\"https://colab.research.google.com/github/AbhimanyuDeswal/Handwritten-Digit-Recognition/blob/main/Handwritten_Digit_Recognition.ipynb\" target=\"_parent\"><img src=\"https://colab.research.google.com/assets/colab-badge.svg\" alt=\"Open In Colab\"/></a>"
      ]
    },
    {
      "cell_type": "markdown",
      "metadata": {
        "id": "A-3t7AJ5oLHf"
      },
      "source": [
        "Import Modules\n"
      ]
    },
    {
      "cell_type": "code",
      "metadata": {
        "id": "Pgq-zbMzep9J"
      },
      "source": [
        "import pandas as pd\n",
        "import numpy as np\n",
        "from tqdm.notebook import tqdm\n",
        "from keras.preprocessing.image import img_to_array, load_img\n",
        "import tensorflow as tf\n",
        "import matplotlib.pyplot as plt\n",
        "%matplotlib inline\n",
        "import warnings\n",
        "\n",
        "warnings.filterwarnings('ignore')"
      ],
      "execution_count": 1,
      "outputs": []
    },
    {
      "cell_type": "markdown",
      "metadata": {
        "id": "9uBq4Z9loZ43"
      },
      "source": [
        "Unzip the data"
      ]
    },
    {
      "cell_type": "code",
      "metadata": {
        "id": "onIe7iS9e6YJ"
      },
      "source": [
        "!unzip Train_UQcUa52.zip"
      ],
      "execution_count": null,
      "outputs": []
    },
    {
      "cell_type": "markdown",
      "metadata": {
        "id": "FYUmGLNWodE5"
      },
      "source": [
        "Load the data"
      ]
    },
    {
      "cell_type": "code",
      "metadata": {
        "id": "CZm7mdfRfCCW"
      },
      "source": [
        "df = pd.read_csv('train.csv')\n",
        "df.head()"
      ],
      "execution_count": null,
      "outputs": []
    },
    {
      "cell_type": "code",
      "metadata": {
        "id": "7XkfRnIvfKCw"
      },
      "source": [
        "image_path = 'Images/train/'"
      ],
      "execution_count": null,
      "outputs": []
    },
    {
      "cell_type": "code",
      "metadata": {
        "id": "HQa1ehNyfMRR"
      },
      "source": [
        "X = np.array([img_to_array(load_img(image_path+df['filename'][i], target_size=(28,28,1), grayscale=True))\n",
        "              for i in tqdm(range(df.shape[0]))\n",
        "              ]).astype('float32')"
      ],
      "execution_count": null,
      "outputs": []
    },
    {
      "cell_type": "code",
      "metadata": {
        "id": "BbotqkKmfOX8"
      },
      "source": [
        "y = df['label']"
      ],
      "execution_count": null,
      "outputs": []
    },
    {
      "cell_type": "code",
      "metadata": {
        "id": "OkY7LbhQfRKu"
      },
      "source": [
        "print(X.shape, y.shape)"
      ],
      "execution_count": null,
      "outputs": []
    },
    {
      "cell_type": "code",
      "metadata": {
        "id": "tRjXkxLTfT_v"
      },
      "source": [
        "image_index = 2\n",
        "print(y[image_index])\n",
        "plt.imshow(X[image_index].reshape(28,28), cmap='Greys')"
      ],
      "execution_count": null,
      "outputs": []
    },
    {
      "cell_type": "code",
      "metadata": {
        "id": "RBsPEXBOfWNZ"
      },
      "source": [
        "image_index = 10\n",
        "print(y[image_index])\n",
        "plt.imshow(X[image_index].reshape(28,28), cmap='Greys')"
      ],
      "execution_count": null,
      "outputs": []
    },
    {
      "cell_type": "code",
      "metadata": {
        "id": "K5z5DXFTfYhq"
      },
      "source": [
        "image_index = 100\n",
        "print(y[image_index])\n",
        "plt.imshow(X[image_index].reshape(28,28), cmap='Greys')"
      ],
      "execution_count": null,
      "outputs": []
    },
    {
      "cell_type": "markdown",
      "metadata": {
        "id": "Vfu7CVJFp0NK"
      },
      "source": [
        "Train test split"
      ]
    },
    {
      "cell_type": "code",
      "metadata": {
        "id": "ATYwxKCsfbcd"
      },
      "source": [
        "from sklearn.model_selection import train_test_split\n",
        "x_train, x_test, y_train, y_test = train_test_split(X, y, test_size=0.25, random_state=42, stratify=np.array(y))"
      ],
      "execution_count": null,
      "outputs": []
    },
    {
      "cell_type": "markdown",
      "metadata": {
        "id": "7HIEftY8qTmu"
      },
      "source": [
        "Normalization"
      ]
    },
    {
      "cell_type": "code",
      "metadata": {
        "id": "TpVysYlE4XRo"
      },
      "source": [
        "x_train[0]"
      ],
      "execution_count": null,
      "outputs": []
    },
    {
      "cell_type": "code",
      "metadata": {
        "id": "liZPrNgnfdrT"
      },
      "source": [
        "x_train /= 255\n",
        "x_test /= 255"
      ],
      "execution_count": null,
      "outputs": []
    },
    {
      "cell_type": "code",
      "metadata": {
        "id": "wMkNlpycfqN2"
      },
      "source": [
        "input_shape = (28,28,1)\n",
        "output_class = 10"
      ],
      "execution_count": null,
      "outputs": []
    },
    {
      "cell_type": "markdown",
      "metadata": {
        "id": "EEYSSW42qgbQ"
      },
      "source": [
        "Model Creation"
      ]
    },
    {
      "cell_type": "code",
      "metadata": {
        "id": "VPBRbbIXfsY_"
      },
      "source": [
        "from keras.models import Sequential\n",
        "from keras.layers import Dense, Conv2D, Dropout, Flatten, MaxPooling2D\n",
        "\n",
        "# define the model\n",
        "model = Sequential()\n",
        "model.add(Conv2D(28, kernel_size=(3,3), input_shape=input_shape))\n",
        "model.add(MaxPooling2D(pool_size=(2,2)))\n",
        "model.add(Flatten())\n",
        "model.add(Dense(128, activation=tf.nn.relu))\n",
        "model.add(Dropout(0.3))\n",
        "model.add(Dense(output_class, activation=tf.nn.softmax))\n",
        "\n",
        "model.compile(optimizer='adam', loss='sparse_categorical_crossentropy', metrics='accuracy')"
      ],
      "execution_count": null,
      "outputs": []
    },
    {
      "cell_type": "code",
      "metadata": {
        "id": "Rk3IvZeZfuqX"
      },
      "source": [
        "# train the model\n",
        "model.fit(x=x_train, y=y_train, batch_size=32, epochs=30, validation_data=(x_test, y_test))"
      ],
      "execution_count": null,
      "outputs": []
    },
    {
      "cell_type": "markdown",
      "metadata": {
        "id": "TNiIrGpjsJk7"
      },
      "source": [
        "Testing the model"
      ]
    },
    {
      "cell_type": "code",
      "metadata": {
        "id": "ae7LlfTYfwup"
      },
      "source": [
        "image_index = 10\n",
        "plt.imshow(x_test[image_index].reshape(28,28), cmap='Greys')\n",
        "pred = model.predict(x_test[image_index].reshape(1,28,28,1))\n",
        "print(\"Predicted output:\", pred.argmax())"
      ],
      "execution_count": null,
      "outputs": []
    },
    {
      "cell_type": "code",
      "metadata": {
        "id": "PuWJq-oTf0R2"
      },
      "source": [
        "image_index = 80\n",
        "plt.imshow(x_test[image_index].reshape(28,28), cmap='Greys')\n",
        "pred = model.predict(x_test[image_index].reshape(1,28,28,1))\n",
        "print(\"Predicted output:\", pred.argmax())"
      ],
      "execution_count": null,
      "outputs": []
    },
    {
      "cell_type": "code",
      "metadata": {
        "id": "siX8z26yf164"
      },
      "source": [
        "image_index = 15\n",
        "plt.imshow(x_test[image_index].reshape(28,28), cmap='Greys')\n",
        "pred = model.predict(x_test[image_index].reshape(1,28,28,1))\n",
        "print(\"Predicted output:\", pred.argmax())"
      ],
      "execution_count": null,
      "outputs": []
    },
    {
      "cell_type": "code",
      "metadata": {
        "id": "Ft7DWFsAxS3K"
      },
      "source": [
        ""
      ],
      "execution_count": null,
      "outputs": []
    }
  ]
}